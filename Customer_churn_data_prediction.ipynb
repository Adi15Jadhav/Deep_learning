{
  "nbformat": 4,
  "nbformat_minor": 0,
  "metadata": {
    "kernelspec": {
      "display_name": "Python 3",
      "language": "python",
      "name": "python3"
    },
    "language_info": {
      "codemirror_mode": {
        "name": "ipython",
        "version": 3
      },
      "file_extension": ".py",
      "mimetype": "text/x-python",
      "name": "python",
      "nbconvert_exporter": "python",
      "pygments_lexer": "ipython3",
      "version": "3.7.6"
    },
    "colab": {
      "name": "Customer churn data prediction.ipynb",
      "provenance": [],
      "include_colab_link": true
    }
  },
  "cells": [
    {
      "cell_type": "markdown",
      "metadata": {
        "id": "view-in-github",
        "colab_type": "text"
      },
      "source": [
        "<a href=\"https://colab.research.google.com/github/Adi15Jadhav/Deep_learning_assignments/blob/main/Customer_churn_data_prediction.ipynb\" target=\"_parent\"><img src=\"https://colab.research.google.com/assets/colab-badge.svg\" alt=\"Open In Colab\"/></a>"
      ]
    },
    {
      "cell_type": "code",
      "metadata": {
        "id": "-8nWzWedYZp0"
      },
      "source": [
        "import numpy as np\n",
        "import pandas as pd\n",
        "import matplotlib.pyplot as plt\n",
        "import seaborn as sns"
      ],
      "execution_count": 3,
      "outputs": []
    },
    {
      "cell_type": "code",
      "metadata": {
        "colab": {
          "base_uri": "https://localhost:8080/",
          "height": 195
        },
        "id": "8Vqe2osvYZp-",
        "outputId": "68abd7d8-8ab3-4aa3-d672-ffcd97239814"
      },
      "source": [
        "df = pd.read_csv(\"/content/churn_data.csv\")\n",
        "df.head()"
      ],
      "execution_count": 4,
      "outputs": [
        {
          "output_type": "execute_result",
          "data": {
            "text/html": [
              "<div>\n",
              "<style scoped>\n",
              "    .dataframe tbody tr th:only-of-type {\n",
              "        vertical-align: middle;\n",
              "    }\n",
              "\n",
              "    .dataframe tbody tr th {\n",
              "        vertical-align: top;\n",
              "    }\n",
              "\n",
              "    .dataframe thead th {\n",
              "        text-align: right;\n",
              "    }\n",
              "</style>\n",
              "<table border=\"1\" class=\"dataframe\">\n",
              "  <thead>\n",
              "    <tr style=\"text-align: right;\">\n",
              "      <th></th>\n",
              "      <th>customerID</th>\n",
              "      <th>tenure</th>\n",
              "      <th>PhoneService</th>\n",
              "      <th>Contract</th>\n",
              "      <th>PaperlessBilling</th>\n",
              "      <th>PaymentMethod</th>\n",
              "      <th>MonthlyCharges</th>\n",
              "      <th>TotalCharges</th>\n",
              "      <th>Churn</th>\n",
              "    </tr>\n",
              "  </thead>\n",
              "  <tbody>\n",
              "    <tr>\n",
              "      <th>0</th>\n",
              "      <td>7590-VHVEG</td>\n",
              "      <td>1</td>\n",
              "      <td>No</td>\n",
              "      <td>Month-to-month</td>\n",
              "      <td>Yes</td>\n",
              "      <td>Electronic check</td>\n",
              "      <td>29.85</td>\n",
              "      <td>29.85</td>\n",
              "      <td>No</td>\n",
              "    </tr>\n",
              "    <tr>\n",
              "      <th>1</th>\n",
              "      <td>5575-GNVDE</td>\n",
              "      <td>34</td>\n",
              "      <td>Yes</td>\n",
              "      <td>One year</td>\n",
              "      <td>No</td>\n",
              "      <td>Mailed check</td>\n",
              "      <td>56.95</td>\n",
              "      <td>1889.5</td>\n",
              "      <td>No</td>\n",
              "    </tr>\n",
              "    <tr>\n",
              "      <th>2</th>\n",
              "      <td>3668-QPYBK</td>\n",
              "      <td>2</td>\n",
              "      <td>Yes</td>\n",
              "      <td>Month-to-month</td>\n",
              "      <td>Yes</td>\n",
              "      <td>Mailed check</td>\n",
              "      <td>53.85</td>\n",
              "      <td>108.15</td>\n",
              "      <td>Yes</td>\n",
              "    </tr>\n",
              "    <tr>\n",
              "      <th>3</th>\n",
              "      <td>7795-CFOCW</td>\n",
              "      <td>45</td>\n",
              "      <td>No</td>\n",
              "      <td>One year</td>\n",
              "      <td>No</td>\n",
              "      <td>Bank transfer (automatic)</td>\n",
              "      <td>42.30</td>\n",
              "      <td>1840.75</td>\n",
              "      <td>No</td>\n",
              "    </tr>\n",
              "    <tr>\n",
              "      <th>4</th>\n",
              "      <td>9237-HQITU</td>\n",
              "      <td>2</td>\n",
              "      <td>Yes</td>\n",
              "      <td>Month-to-month</td>\n",
              "      <td>Yes</td>\n",
              "      <td>Electronic check</td>\n",
              "      <td>70.70</td>\n",
              "      <td>151.65</td>\n",
              "      <td>Yes</td>\n",
              "    </tr>\n",
              "  </tbody>\n",
              "</table>\n",
              "</div>"
            ],
            "text/plain": [
              "   customerID  tenure PhoneService  ... MonthlyCharges TotalCharges Churn\n",
              "0  7590-VHVEG       1           No  ...          29.85        29.85    No\n",
              "1  5575-GNVDE      34          Yes  ...          56.95       1889.5    No\n",
              "2  3668-QPYBK       2          Yes  ...          53.85       108.15   Yes\n",
              "3  7795-CFOCW      45           No  ...          42.30      1840.75    No\n",
              "4  9237-HQITU       2          Yes  ...          70.70       151.65   Yes\n",
              "\n",
              "[5 rows x 9 columns]"
            ]
          },
          "metadata": {
            "tags": []
          },
          "execution_count": 4
        }
      ]
    },
    {
      "cell_type": "code",
      "metadata": {
        "colab": {
          "base_uri": "https://localhost:8080/",
          "height": 195
        },
        "id": "g0eGT57bYZqB",
        "outputId": "0b77f8d8-8aed-4232-fb59-2a4168d2e192"
      },
      "source": [
        "df1 = df.drop('customerID',axis=1)\n",
        "df1.head()"
      ],
      "execution_count": 5,
      "outputs": [
        {
          "output_type": "execute_result",
          "data": {
            "text/html": [
              "<div>\n",
              "<style scoped>\n",
              "    .dataframe tbody tr th:only-of-type {\n",
              "        vertical-align: middle;\n",
              "    }\n",
              "\n",
              "    .dataframe tbody tr th {\n",
              "        vertical-align: top;\n",
              "    }\n",
              "\n",
              "    .dataframe thead th {\n",
              "        text-align: right;\n",
              "    }\n",
              "</style>\n",
              "<table border=\"1\" class=\"dataframe\">\n",
              "  <thead>\n",
              "    <tr style=\"text-align: right;\">\n",
              "      <th></th>\n",
              "      <th>tenure</th>\n",
              "      <th>PhoneService</th>\n",
              "      <th>Contract</th>\n",
              "      <th>PaperlessBilling</th>\n",
              "      <th>PaymentMethod</th>\n",
              "      <th>MonthlyCharges</th>\n",
              "      <th>TotalCharges</th>\n",
              "      <th>Churn</th>\n",
              "    </tr>\n",
              "  </thead>\n",
              "  <tbody>\n",
              "    <tr>\n",
              "      <th>0</th>\n",
              "      <td>1</td>\n",
              "      <td>No</td>\n",
              "      <td>Month-to-month</td>\n",
              "      <td>Yes</td>\n",
              "      <td>Electronic check</td>\n",
              "      <td>29.85</td>\n",
              "      <td>29.85</td>\n",
              "      <td>No</td>\n",
              "    </tr>\n",
              "    <tr>\n",
              "      <th>1</th>\n",
              "      <td>34</td>\n",
              "      <td>Yes</td>\n",
              "      <td>One year</td>\n",
              "      <td>No</td>\n",
              "      <td>Mailed check</td>\n",
              "      <td>56.95</td>\n",
              "      <td>1889.5</td>\n",
              "      <td>No</td>\n",
              "    </tr>\n",
              "    <tr>\n",
              "      <th>2</th>\n",
              "      <td>2</td>\n",
              "      <td>Yes</td>\n",
              "      <td>Month-to-month</td>\n",
              "      <td>Yes</td>\n",
              "      <td>Mailed check</td>\n",
              "      <td>53.85</td>\n",
              "      <td>108.15</td>\n",
              "      <td>Yes</td>\n",
              "    </tr>\n",
              "    <tr>\n",
              "      <th>3</th>\n",
              "      <td>45</td>\n",
              "      <td>No</td>\n",
              "      <td>One year</td>\n",
              "      <td>No</td>\n",
              "      <td>Bank transfer (automatic)</td>\n",
              "      <td>42.30</td>\n",
              "      <td>1840.75</td>\n",
              "      <td>No</td>\n",
              "    </tr>\n",
              "    <tr>\n",
              "      <th>4</th>\n",
              "      <td>2</td>\n",
              "      <td>Yes</td>\n",
              "      <td>Month-to-month</td>\n",
              "      <td>Yes</td>\n",
              "      <td>Electronic check</td>\n",
              "      <td>70.70</td>\n",
              "      <td>151.65</td>\n",
              "      <td>Yes</td>\n",
              "    </tr>\n",
              "  </tbody>\n",
              "</table>\n",
              "</div>"
            ],
            "text/plain": [
              "   tenure PhoneService        Contract  ... MonthlyCharges TotalCharges  Churn\n",
              "0       1           No  Month-to-month  ...          29.85        29.85     No\n",
              "1      34          Yes        One year  ...          56.95       1889.5     No\n",
              "2       2          Yes  Month-to-month  ...          53.85       108.15    Yes\n",
              "3      45           No        One year  ...          42.30      1840.75     No\n",
              "4       2          Yes  Month-to-month  ...          70.70       151.65    Yes\n",
              "\n",
              "[5 rows x 8 columns]"
            ]
          },
          "metadata": {
            "tags": []
          },
          "execution_count": 5
        }
      ]
    },
    {
      "cell_type": "code",
      "metadata": {
        "colab": {
          "base_uri": "https://localhost:8080/"
        },
        "id": "i7eyE5AlYZqC",
        "outputId": "a47ee948-4f1e-415e-ae93-75f768a70329"
      },
      "source": [
        "df1.info()"
      ],
      "execution_count": 6,
      "outputs": [
        {
          "output_type": "stream",
          "text": [
            "<class 'pandas.core.frame.DataFrame'>\n",
            "RangeIndex: 7043 entries, 0 to 7042\n",
            "Data columns (total 8 columns):\n",
            " #   Column            Non-Null Count  Dtype  \n",
            "---  ------            --------------  -----  \n",
            " 0   tenure            7043 non-null   int64  \n",
            " 1   PhoneService      7043 non-null   object \n",
            " 2   Contract          7043 non-null   object \n",
            " 3   PaperlessBilling  7043 non-null   object \n",
            " 4   PaymentMethod     7043 non-null   object \n",
            " 5   MonthlyCharges    7043 non-null   float64\n",
            " 6   TotalCharges      7043 non-null   object \n",
            " 7   Churn             7043 non-null   object \n",
            "dtypes: float64(1), int64(1), object(6)\n",
            "memory usage: 440.3+ KB\n"
          ],
          "name": "stdout"
        }
      ]
    },
    {
      "cell_type": "code",
      "metadata": {
        "colab": {
          "base_uri": "https://localhost:8080/"
        },
        "id": "LdhBkvL6YZqC",
        "outputId": "818b8cdc-d602-4e8b-f02d-0171bc88a7b5"
      },
      "source": [
        "df1.isnull().sum()"
      ],
      "execution_count": 7,
      "outputs": [
        {
          "output_type": "execute_result",
          "data": {
            "text/plain": [
              "tenure              0\n",
              "PhoneService        0\n",
              "Contract            0\n",
              "PaperlessBilling    0\n",
              "PaymentMethod       0\n",
              "MonthlyCharges      0\n",
              "TotalCharges        0\n",
              "Churn               0\n",
              "dtype: int64"
            ]
          },
          "metadata": {
            "tags": []
          },
          "execution_count": 7
        }
      ]
    },
    {
      "cell_type": "code",
      "metadata": {
        "colab": {
          "base_uri": "https://localhost:8080/"
        },
        "id": "ej08gBMDYZqD",
        "outputId": "afd617e3-25cb-49ec-8637-8d01a1a51948"
      },
      "source": [
        "for i in df1.columns:\n",
        "    print(i , df1[i].unique())"
      ],
      "execution_count": 8,
      "outputs": [
        {
          "output_type": "stream",
          "text": [
            "tenure [ 1 34  2 45  8 22 10 28 62 13 16 58 49 25 69 52 71 21 12 30 47 72 17 27\n",
            "  5 46 11 70 63 43 15 60 18 66  9  3 31 50 64 56  7 42 35 48 29 65 38 68\n",
            " 32 55 37 36 41  6  4 33 67 23 57 61 14 20 53 40 59 24 44 19 54 51 26  0\n",
            " 39]\n",
            "PhoneService ['No' 'Yes']\n",
            "Contract ['Month-to-month' 'One year' 'Two year']\n",
            "PaperlessBilling ['Yes' 'No']\n",
            "PaymentMethod ['Electronic check' 'Mailed check' 'Bank transfer (automatic)'\n",
            " 'Credit card (automatic)']\n",
            "MonthlyCharges [29.85 56.95 53.85 ... 63.1  44.2  78.7 ]\n",
            "TotalCharges ['29.85' '1889.5' '108.15' ... '346.45' '306.6' '6844.5']\n",
            "Churn ['No' 'Yes']\n"
          ],
          "name": "stdout"
        }
      ]
    },
    {
      "cell_type": "code",
      "metadata": {
        "id": "nnrGuUwQYZqE"
      },
      "source": [
        "from sklearn.preprocessing import OrdinalEncoder,OneHotEncoder"
      ],
      "execution_count": 9,
      "outputs": []
    },
    {
      "cell_type": "code",
      "metadata": {
        "id": "v3wEqyUQYZqE"
      },
      "source": [
        "encoder = OrdinalEncoder()\n",
        "encoder.fit(df1[['Contract','PaymentMethod']])\n",
        "df1[['Contract','PaymentMethod']] = encoder.transform(df1[['Contract','PaymentMethod']])"
      ],
      "execution_count": 10,
      "outputs": []
    },
    {
      "cell_type": "code",
      "metadata": {
        "colab": {
          "base_uri": "https://localhost:8080/",
          "height": 195
        },
        "id": "IIh5ex5_YZqF",
        "outputId": "1e8bca28-536c-43c9-eb22-a55247a7b6bd"
      },
      "source": [
        "df1.head()"
      ],
      "execution_count": 11,
      "outputs": [
        {
          "output_type": "execute_result",
          "data": {
            "text/html": [
              "<div>\n",
              "<style scoped>\n",
              "    .dataframe tbody tr th:only-of-type {\n",
              "        vertical-align: middle;\n",
              "    }\n",
              "\n",
              "    .dataframe tbody tr th {\n",
              "        vertical-align: top;\n",
              "    }\n",
              "\n",
              "    .dataframe thead th {\n",
              "        text-align: right;\n",
              "    }\n",
              "</style>\n",
              "<table border=\"1\" class=\"dataframe\">\n",
              "  <thead>\n",
              "    <tr style=\"text-align: right;\">\n",
              "      <th></th>\n",
              "      <th>tenure</th>\n",
              "      <th>PhoneService</th>\n",
              "      <th>Contract</th>\n",
              "      <th>PaperlessBilling</th>\n",
              "      <th>PaymentMethod</th>\n",
              "      <th>MonthlyCharges</th>\n",
              "      <th>TotalCharges</th>\n",
              "      <th>Churn</th>\n",
              "    </tr>\n",
              "  </thead>\n",
              "  <tbody>\n",
              "    <tr>\n",
              "      <th>0</th>\n",
              "      <td>1</td>\n",
              "      <td>No</td>\n",
              "      <td>0.0</td>\n",
              "      <td>Yes</td>\n",
              "      <td>2.0</td>\n",
              "      <td>29.85</td>\n",
              "      <td>29.85</td>\n",
              "      <td>No</td>\n",
              "    </tr>\n",
              "    <tr>\n",
              "      <th>1</th>\n",
              "      <td>34</td>\n",
              "      <td>Yes</td>\n",
              "      <td>1.0</td>\n",
              "      <td>No</td>\n",
              "      <td>3.0</td>\n",
              "      <td>56.95</td>\n",
              "      <td>1889.5</td>\n",
              "      <td>No</td>\n",
              "    </tr>\n",
              "    <tr>\n",
              "      <th>2</th>\n",
              "      <td>2</td>\n",
              "      <td>Yes</td>\n",
              "      <td>0.0</td>\n",
              "      <td>Yes</td>\n",
              "      <td>3.0</td>\n",
              "      <td>53.85</td>\n",
              "      <td>108.15</td>\n",
              "      <td>Yes</td>\n",
              "    </tr>\n",
              "    <tr>\n",
              "      <th>3</th>\n",
              "      <td>45</td>\n",
              "      <td>No</td>\n",
              "      <td>1.0</td>\n",
              "      <td>No</td>\n",
              "      <td>0.0</td>\n",
              "      <td>42.30</td>\n",
              "      <td>1840.75</td>\n",
              "      <td>No</td>\n",
              "    </tr>\n",
              "    <tr>\n",
              "      <th>4</th>\n",
              "      <td>2</td>\n",
              "      <td>Yes</td>\n",
              "      <td>0.0</td>\n",
              "      <td>Yes</td>\n",
              "      <td>2.0</td>\n",
              "      <td>70.70</td>\n",
              "      <td>151.65</td>\n",
              "      <td>Yes</td>\n",
              "    </tr>\n",
              "  </tbody>\n",
              "</table>\n",
              "</div>"
            ],
            "text/plain": [
              "   tenure PhoneService  Contract  ... MonthlyCharges  TotalCharges  Churn\n",
              "0       1           No       0.0  ...          29.85         29.85     No\n",
              "1      34          Yes       1.0  ...          56.95        1889.5     No\n",
              "2       2          Yes       0.0  ...          53.85        108.15    Yes\n",
              "3      45           No       1.0  ...          42.30       1840.75     No\n",
              "4       2          Yes       0.0  ...          70.70        151.65    Yes\n",
              "\n",
              "[5 rows x 8 columns]"
            ]
          },
          "metadata": {
            "tags": []
          },
          "execution_count": 11
        }
      ]
    },
    {
      "cell_type": "code",
      "metadata": {
        "id": "nY3IJkA-YZqG"
      },
      "source": [
        "for i,v in enumerate(['PhoneService','PaperlessBilling','Churn']):\n",
        "    df1[v] = pd.get_dummies(df1[v],prefix=v)"
      ],
      "execution_count": 12,
      "outputs": []
    },
    {
      "cell_type": "code",
      "metadata": {
        "colab": {
          "base_uri": "https://localhost:8080/",
          "height": 195
        },
        "id": "_n7zDhnhYZqG",
        "outputId": "859ea994-e988-4ac2-a10f-5d0cd14f8d77"
      },
      "source": [
        "df1.head()"
      ],
      "execution_count": 13,
      "outputs": [
        {
          "output_type": "execute_result",
          "data": {
            "text/html": [
              "<div>\n",
              "<style scoped>\n",
              "    .dataframe tbody tr th:only-of-type {\n",
              "        vertical-align: middle;\n",
              "    }\n",
              "\n",
              "    .dataframe tbody tr th {\n",
              "        vertical-align: top;\n",
              "    }\n",
              "\n",
              "    .dataframe thead th {\n",
              "        text-align: right;\n",
              "    }\n",
              "</style>\n",
              "<table border=\"1\" class=\"dataframe\">\n",
              "  <thead>\n",
              "    <tr style=\"text-align: right;\">\n",
              "      <th></th>\n",
              "      <th>tenure</th>\n",
              "      <th>PhoneService</th>\n",
              "      <th>Contract</th>\n",
              "      <th>PaperlessBilling</th>\n",
              "      <th>PaymentMethod</th>\n",
              "      <th>MonthlyCharges</th>\n",
              "      <th>TotalCharges</th>\n",
              "      <th>Churn</th>\n",
              "    </tr>\n",
              "  </thead>\n",
              "  <tbody>\n",
              "    <tr>\n",
              "      <th>0</th>\n",
              "      <td>1</td>\n",
              "      <td>1</td>\n",
              "      <td>0.0</td>\n",
              "      <td>0</td>\n",
              "      <td>2.0</td>\n",
              "      <td>29.85</td>\n",
              "      <td>29.85</td>\n",
              "      <td>1</td>\n",
              "    </tr>\n",
              "    <tr>\n",
              "      <th>1</th>\n",
              "      <td>34</td>\n",
              "      <td>0</td>\n",
              "      <td>1.0</td>\n",
              "      <td>1</td>\n",
              "      <td>3.0</td>\n",
              "      <td>56.95</td>\n",
              "      <td>1889.5</td>\n",
              "      <td>1</td>\n",
              "    </tr>\n",
              "    <tr>\n",
              "      <th>2</th>\n",
              "      <td>2</td>\n",
              "      <td>0</td>\n",
              "      <td>0.0</td>\n",
              "      <td>0</td>\n",
              "      <td>3.0</td>\n",
              "      <td>53.85</td>\n",
              "      <td>108.15</td>\n",
              "      <td>0</td>\n",
              "    </tr>\n",
              "    <tr>\n",
              "      <th>3</th>\n",
              "      <td>45</td>\n",
              "      <td>1</td>\n",
              "      <td>1.0</td>\n",
              "      <td>1</td>\n",
              "      <td>0.0</td>\n",
              "      <td>42.30</td>\n",
              "      <td>1840.75</td>\n",
              "      <td>1</td>\n",
              "    </tr>\n",
              "    <tr>\n",
              "      <th>4</th>\n",
              "      <td>2</td>\n",
              "      <td>0</td>\n",
              "      <td>0.0</td>\n",
              "      <td>0</td>\n",
              "      <td>2.0</td>\n",
              "      <td>70.70</td>\n",
              "      <td>151.65</td>\n",
              "      <td>0</td>\n",
              "    </tr>\n",
              "  </tbody>\n",
              "</table>\n",
              "</div>"
            ],
            "text/plain": [
              "   tenure  PhoneService  Contract  ...  MonthlyCharges  TotalCharges  Churn\n",
              "0       1             1       0.0  ...           29.85         29.85      1\n",
              "1      34             0       1.0  ...           56.95        1889.5      1\n",
              "2       2             0       0.0  ...           53.85        108.15      0\n",
              "3      45             1       1.0  ...           42.30       1840.75      1\n",
              "4       2             0       0.0  ...           70.70        151.65      0\n",
              "\n",
              "[5 rows x 8 columns]"
            ]
          },
          "metadata": {
            "tags": []
          },
          "execution_count": 13
        }
      ]
    },
    {
      "cell_type": "code",
      "metadata": {
        "colab": {
          "base_uri": "https://localhost:8080/",
          "height": 1000
        },
        "id": "4lf81dV3YZqH",
        "outputId": "ff2ef652-9354-4ce2-8e0a-7ad963274c01"
      },
      "source": [
        "plt.figure(figsize=(20,20))\n",
        "plt.subplot(2,2,1)\n",
        "sns.countplot(x= df1.Churn)\n",
        "plt.xlabel(['Yes','No'])\n",
        "plt.subplot(2,2,2)\n",
        "sns.countplot(x= df1.PhoneService)\n",
        "plt.xlabel(['No','Yes'])\n",
        "plt.subplot(2,2,3)\n",
        "sns.countplot(x= df1.PaymentMethod)\n",
        "plt.xlabel(['Electronic check','Mailed check','Bank transfer','Credit card'])\n",
        "plt.subplot(2,2,4)\n",
        "sns.countplot(x= df1.Contract)\n",
        "plt.xlabel(['Month-to-month' 'One year' 'Two year'])\n",
        "plt.show()"
      ],
      "execution_count": 14,
      "outputs": [
        {
          "output_type": "display_data",
          "data": {
            "image/png": "[encoded data removed]",
            "text/plain": [
              "<Figure size 1440x1440 with 4 Axes>"
            ]
          },
          "metadata": {
            "tags": [],
            "needs_background": "light"
          }
        }
      ]
    },
    {
      "cell_type": "code",
      "metadata": {
        "colab": {
          "base_uri": "https://localhost:8080/",
          "height": 284
        },
        "id": "T67Fa0s2YZqH",
        "outputId": "937dbe6f-eae4-41e2-e40b-16d30d6c625f"
      },
      "source": [
        "df1.describe()"
      ],
      "execution_count": 15,
      "outputs": [
        {
          "output_type": "execute_result",
          "data": {
            "text/html": [
              "<div>\n",
              "<style scoped>\n",
              "    .dataframe tbody tr th:only-of-type {\n",
              "        vertical-align: middle;\n",
              "    }\n",
              "\n",
              "    .dataframe tbody tr th {\n",
              "        vertical-align: top;\n",
              "    }\n",
              "\n",
              "    .dataframe thead th {\n",
              "        text-align: right;\n",
              "    }\n",
              "</style>\n",
              "<table border=\"1\" class=\"dataframe\">\n",
              "  <thead>\n",
              "    <tr style=\"text-align: right;\">\n",
              "      <th></th>\n",
              "      <th>tenure</th>\n",
              "      <th>PhoneService</th>\n",
              "      <th>Contract</th>\n",
              "      <th>PaperlessBilling</th>\n",
              "      <th>PaymentMethod</th>\n",
              "      <th>MonthlyCharges</th>\n",
              "      <th>Churn</th>\n",
              "    </tr>\n",
              "  </thead>\n",
              "  <tbody>\n",
              "    <tr>\n",
              "      <th>count</th>\n",
              "      <td>7043.000000</td>\n",
              "      <td>7043.000000</td>\n",
              "      <td>7043.000000</td>\n",
              "      <td>7043.000000</td>\n",
              "      <td>7043.000000</td>\n",
              "      <td>7043.000000</td>\n",
              "      <td>7043.000000</td>\n",
              "    </tr>\n",
              "    <tr>\n",
              "      <th>mean</th>\n",
              "      <td>32.371149</td>\n",
              "      <td>0.096834</td>\n",
              "      <td>0.690473</td>\n",
              "      <td>0.407781</td>\n",
              "      <td>1.574329</td>\n",
              "      <td>64.761692</td>\n",
              "      <td>0.734630</td>\n",
              "    </tr>\n",
              "    <tr>\n",
              "      <th>std</th>\n",
              "      <td>24.559481</td>\n",
              "      <td>0.295752</td>\n",
              "      <td>0.833755</td>\n",
              "      <td>0.491457</td>\n",
              "      <td>1.068104</td>\n",
              "      <td>30.090047</td>\n",
              "      <td>0.441561</td>\n",
              "    </tr>\n",
              "    <tr>\n",
              "      <th>min</th>\n",
              "      <td>0.000000</td>\n",
              "      <td>0.000000</td>\n",
              "      <td>0.000000</td>\n",
              "      <td>0.000000</td>\n",
              "      <td>0.000000</td>\n",
              "      <td>18.250000</td>\n",
              "      <td>0.000000</td>\n",
              "    </tr>\n",
              "    <tr>\n",
              "      <th>25%</th>\n",
              "      <td>9.000000</td>\n",
              "      <td>0.000000</td>\n",
              "      <td>0.000000</td>\n",
              "      <td>0.000000</td>\n",
              "      <td>1.000000</td>\n",
              "      <td>35.500000</td>\n",
              "      <td>0.000000</td>\n",
              "    </tr>\n",
              "    <tr>\n",
              "      <th>50%</th>\n",
              "      <td>29.000000</td>\n",
              "      <td>0.000000</td>\n",
              "      <td>0.000000</td>\n",
              "      <td>0.000000</td>\n",
              "      <td>2.000000</td>\n",
              "      <td>70.350000</td>\n",
              "      <td>1.000000</td>\n",
              "    </tr>\n",
              "    <tr>\n",
              "      <th>75%</th>\n",
              "      <td>55.000000</td>\n",
              "      <td>0.000000</td>\n",
              "      <td>1.000000</td>\n",
              "      <td>1.000000</td>\n",
              "      <td>2.000000</td>\n",
              "      <td>89.850000</td>\n",
              "      <td>1.000000</td>\n",
              "    </tr>\n",
              "    <tr>\n",
              "      <th>max</th>\n",
              "      <td>72.000000</td>\n",
              "      <td>1.000000</td>\n",
              "      <td>2.000000</td>\n",
              "      <td>1.000000</td>\n",
              "      <td>3.000000</td>\n",
              "      <td>118.750000</td>\n",
              "      <td>1.000000</td>\n",
              "    </tr>\n",
              "  </tbody>\n",
              "</table>\n",
              "</div>"
            ],
            "text/plain": [
              "            tenure  PhoneService  ...  MonthlyCharges        Churn\n",
              "count  7043.000000   7043.000000  ...     7043.000000  7043.000000\n",
              "mean     32.371149      0.096834  ...       64.761692     0.734630\n",
              "std      24.559481      0.295752  ...       30.090047     0.441561\n",
              "min       0.000000      0.000000  ...       18.250000     0.000000\n",
              "25%       9.000000      0.000000  ...       35.500000     0.000000\n",
              "50%      29.000000      0.000000  ...       70.350000     1.000000\n",
              "75%      55.000000      0.000000  ...       89.850000     1.000000\n",
              "max      72.000000      1.000000  ...      118.750000     1.000000\n",
              "\n",
              "[8 rows x 7 columns]"
            ]
          },
          "metadata": {
            "tags": []
          },
          "execution_count": 15
        }
      ]
    },
    {
      "cell_type": "code",
      "metadata": {
        "id": "X3jdhJuHa0oK"
      },
      "source": [
        "df1.TotalCharges.replace(r'^\\s*$', np.nan, regex=True,inplace=True)"
      ],
      "execution_count": 16,
      "outputs": []
    },
    {
      "cell_type": "code",
      "metadata": {
        "colab": {
          "base_uri": "https://localhost:8080/"
        },
        "id": "6dxtes3HdydS",
        "outputId": "35094c63-d21f-4d0b-8c0a-5ad19d746767"
      },
      "source": [
        "df1.isnull().sum()"
      ],
      "execution_count": 17,
      "outputs": [
        {
          "output_type": "execute_result",
          "data": {
            "text/plain": [
              "tenure               0\n",
              "PhoneService         0\n",
              "Contract             0\n",
              "PaperlessBilling     0\n",
              "PaymentMethod        0\n",
              "MonthlyCharges       0\n",
              "TotalCharges        11\n",
              "Churn                0\n",
              "dtype: int64"
            ]
          },
          "metadata": {
            "tags": []
          },
          "execution_count": 17
        }
      ]
    },
    {
      "cell_type": "code",
      "metadata": {
        "id": "Abz8MwQajdmO"
      },
      "source": [
        "df1.dropna(inplace=True)"
      ],
      "execution_count": 18,
      "outputs": []
    },
    {
      "cell_type": "code",
      "metadata": {
        "id": "lXJwq445kYn2"
      },
      "source": [
        "\r\n",
        "for i in df1.columns:\r\n",
        "  df1[i] = df1[i].astype('float64')\r\n"
      ],
      "execution_count": 19,
      "outputs": []
    },
    {
      "cell_type": "code",
      "metadata": {
        "id": "U2bhDdh4YZqI"
      },
      "source": [
        "X = df1.drop('Churn',axis=1)\n",
        "y = df1[['Churn']]"
      ],
      "execution_count": 20,
      "outputs": []
    },
    {
      "cell_type": "code",
      "metadata": {
        "colab": {
          "base_uri": "https://localhost:8080/",
          "height": 402
        },
        "id": "ZyF8AAWJbcl2",
        "outputId": "3849aa8f-8608-4eb1-a15f-1453c81e6dea"
      },
      "source": [
        "y"
      ],
      "execution_count": 21,
      "outputs": [
        {
          "output_type": "execute_result",
          "data": {
            "text/html": [
              "<div>\n",
              "<style scoped>\n",
              "    .dataframe tbody tr th:only-of-type {\n",
              "        vertical-align: middle;\n",
              "    }\n",
              "\n",
              "    .dataframe tbody tr th {\n",
              "        vertical-align: top;\n",
              "    }\n",
              "\n",
              "    .dataframe thead th {\n",
              "        text-align: right;\n",
              "    }\n",
              "</style>\n",
              "<table border=\"1\" class=\"dataframe\">\n",
              "  <thead>\n",
              "    <tr style=\"text-align: right;\">\n",
              "      <th></th>\n",
              "      <th>Churn</th>\n",
              "    </tr>\n",
              "  </thead>\n",
              "  <tbody>\n",
              "    <tr>\n",
              "      <th>0</th>\n",
              "      <td>1.0</td>\n",
              "    </tr>\n",
              "    <tr>\n",
              "      <th>1</th>\n",
              "      <td>1.0</td>\n",
              "    </tr>\n",
              "    <tr>\n",
              "      <th>2</th>\n",
              "      <td>0.0</td>\n",
              "    </tr>\n",
              "    <tr>\n",
              "      <th>3</th>\n",
              "      <td>1.0</td>\n",
              "    </tr>\n",
              "    <tr>\n",
              "      <th>4</th>\n",
              "      <td>0.0</td>\n",
              "    </tr>\n",
              "    <tr>\n",
              "      <th>...</th>\n",
              "      <td>...</td>\n",
              "    </tr>\n",
              "    <tr>\n",
              "      <th>7038</th>\n",
              "      <td>1.0</td>\n",
              "    </tr>\n",
              "    <tr>\n",
              "      <th>7039</th>\n",
              "      <td>1.0</td>\n",
              "    </tr>\n",
              "    <tr>\n",
              "      <th>7040</th>\n",
              "      <td>1.0</td>\n",
              "    </tr>\n",
              "    <tr>\n",
              "      <th>7041</th>\n",
              "      <td>0.0</td>\n",
              "    </tr>\n",
              "    <tr>\n",
              "      <th>7042</th>\n",
              "      <td>1.0</td>\n",
              "    </tr>\n",
              "  </tbody>\n",
              "</table>\n",
              "<p>7032 rows × 1 columns</p>\n",
              "</div>"
            ],
            "text/plain": [
              "      Churn\n",
              "0       1.0\n",
              "1       1.0\n",
              "2       0.0\n",
              "3       1.0\n",
              "4       0.0\n",
              "...     ...\n",
              "7038    1.0\n",
              "7039    1.0\n",
              "7040    1.0\n",
              "7041    0.0\n",
              "7042    1.0\n",
              "\n",
              "[7032 rows x 1 columns]"
            ]
          },
          "metadata": {
            "tags": []
          },
          "execution_count": 21
        }
      ]
    },
    {
      "cell_type": "code",
      "metadata": {
        "id": "K1OAnINYYZqI"
      },
      "source": [
        "from sklearn.model_selection import train_test_split"
      ],
      "execution_count": 22,
      "outputs": []
    },
    {
      "cell_type": "code",
      "metadata": {
        "id": "Wt75kLcbYZqI"
      },
      "source": [
        "X_train,X_test,y_train,y_test = train_test_split(X,y,test_size=0.3,random_state=0)"
      ],
      "execution_count": 23,
      "outputs": []
    },
    {
      "cell_type": "code",
      "metadata": {
        "colab": {
          "base_uri": "https://localhost:8080/"
        },
        "id": "ufWiHsWfYZqJ",
        "outputId": "86dc1ddb-d2e9-4fcd-97bb-886df0e6af19"
      },
      "source": [
        "X_train.shape,y_train.shape"
      ],
      "execution_count": 24,
      "outputs": [
        {
          "output_type": "execute_result",
          "data": {
            "text/plain": [
              "((4922, 7), (4922, 1))"
            ]
          },
          "metadata": {
            "tags": []
          },
          "execution_count": 24
        }
      ]
    },
    {
      "cell_type": "code",
      "metadata": {
        "id": "xlZL76BBYZqJ"
      },
      "source": [
        "import tensorflow as tf\r\n",
        "from tensorflow import keras"
      ],
      "execution_count": 25,
      "outputs": []
    },
    {
      "cell_type": "code",
      "metadata": {
        "id": "7OsxgrsUY1gm"
      },
      "source": [
        "model = keras.Sequential()"
      ],
      "execution_count": 26,
      "outputs": []
    },
    {
      "cell_type": "code",
      "metadata": {
        "id": "IGgyr0VnZClu"
      },
      "source": [
        "model.add(keras.layers.Dense(8,input_shape =(7,),activation='relu'))\r\n",
        "model.add(keras.layers.Dense(4,activation='relu'))\r\n",
        "model.add(keras.layers.Dense(1,activation='sigmoid'))"
      ],
      "execution_count": 27,
      "outputs": []
    },
    {
      "cell_type": "code",
      "metadata": {
        "id": "eOt3JArGaehh"
      },
      "source": [
        "model.compile(optimizer='adam', loss='binary_crossentropy', metrics=['accuracy'])"
      ],
      "execution_count": 28,
      "outputs": []
    },
    {
      "cell_type": "code",
      "metadata": {
        "colab": {
          "base_uri": "https://localhost:8080/"
        },
        "id": "7MroWp9Vavgd",
        "outputId": "a97e4719-a886-4a02-dd0c-e3c3cab8366c"
      },
      "source": [
        "model.fit(X_train,y_train,epochs=10)"
      ],
      "execution_count": 29,
      "outputs": [
        {
          "output_type": "stream",
          "text": [
            "Epoch 1/10\n",
            "154/154 [==============================] - 1s 1ms/step - loss: 48.2876 - accuracy: 0.5113\n",
            "Epoch 2/10\n",
            "154/154 [==============================] - 0s 1ms/step - loss: 1.5756 - accuracy: 0.6950\n",
            "Epoch 3/10\n",
            "154/154 [==============================] - 0s 1ms/step - loss: 0.7825 - accuracy: 0.7371\n",
            "Epoch 4/10\n",
            "154/154 [==============================] - 0s 1ms/step - loss: 0.6863 - accuracy: 0.7495\n",
            "Epoch 5/10\n",
            "154/154 [==============================] - 0s 1ms/step - loss: 0.6288 - accuracy: 0.7656\n",
            "Epoch 6/10\n",
            "154/154 [==============================] - 0s 1ms/step - loss: 0.7466 - accuracy: 0.7596\n",
            "Epoch 7/10\n",
            "154/154 [==============================] - 0s 1ms/step - loss: 0.6213 - accuracy: 0.7587\n",
            "Epoch 8/10\n",
            "154/154 [==============================] - 0s 1ms/step - loss: 0.5360 - accuracy: 0.7729\n",
            "Epoch 9/10\n",
            "154/154 [==============================] - 0s 1ms/step - loss: 0.6429 - accuracy: 0.7577\n",
            "Epoch 10/10\n",
            "154/154 [==============================] - 0s 1ms/step - loss: 0.5505 - accuracy: 0.7762\n"
          ],
          "name": "stdout"
        },
        {
          "output_type": "execute_result",
          "data": {
            "text/plain": [
              "<tensorflow.python.keras.callbacks.History at 0x7f2372cc5940>"
            ]
          },
          "metadata": {
            "tags": []
          },
          "execution_count": 29
        }
      ]
    },
    {
      "cell_type": "code",
      "metadata": {
        "id": "ys7xZo6whF6y"
      },
      "source": [
        "from sklearn.preprocessing import StandardScaler"
      ],
      "execution_count": 30,
      "outputs": []
    },
    {
      "cell_type": "code",
      "metadata": {
        "id": "VKNgRvPqlgfC"
      },
      "source": [
        "scale = StandardScaler()"
      ],
      "execution_count": 31,
      "outputs": []
    },
    {
      "cell_type": "code",
      "metadata": {
        "colab": {
          "base_uri": "https://localhost:8080/"
        },
        "id": "ARk8J2xMljhP",
        "outputId": "d853bc84-3431-4535-9785-7b6cc18aa0bd"
      },
      "source": [
        "scale.fit_transform(X_train)\r\n",
        "scale.transform(X_test)"
      ],
      "execution_count": 32,
      "outputs": [
        {
          "output_type": "execute_result",
          "data": {
            "text/plain": [
              "array([[-1.27679092, -0.33099571, -0.82377582, ...,  0.39647283,\n",
              "        -1.47409441, -0.99678627],\n",
              "       [-0.6646695 , -0.33099571, -0.82377582, ..., -0.54579625,\n",
              "        -1.47576141, -0.86022192],\n",
              "       [-1.27679092, -0.33099571, -0.82377582, ..., -0.54579625,\n",
              "        -1.5024333 , -0.9971612 ],\n",
              "       ...,\n",
              "       [ 0.11068429, -0.33099571,  0.38080665, ..., -1.48806534,\n",
              "         0.55797071,  0.23590985],\n",
              "       [ 1.62058377, -0.33099571,  0.38080665, ..., -1.48806534,\n",
              "        -1.38574376, -0.28992463],\n",
              "       [ 1.21250283, -0.33099571,  1.58538911, ..., -1.48806534,\n",
              "        -1.48576337, -0.4341641 ]])"
            ]
          },
          "metadata": {
            "tags": []
          },
          "execution_count": 32
        }
      ]
    },
    {
      "cell_type": "code",
      "metadata": {
        "colab": {
          "base_uri": "https://localhost:8080/"
        },
        "id": "0eqepIYUltIQ",
        "outputId": "c722b92f-1935-44a5-97e4-f9929458a4c8"
      },
      "source": [
        "model_2 = keras.Sequential()\r\n",
        "model_2.add(keras.layers.Dense(8,input_shape =(7,),activation='relu'))\r\n",
        "model_2.add(keras.layers.Dense(10,activation='relu'))\r\n",
        "model_2.add(keras.layers.Dense(5,activation='relu'))\r\n",
        "model_2.add(keras.layers.Dense(1,activation='sigmoid'))\r\n",
        "model.compile(optimizer='adam', loss='binary_crossentropy', metrics=['accuracy'])\r\n",
        "model.fit(X_train,y_train,epochs=10)"
      ],
      "execution_count": 33,
      "outputs": [
        {
          "output_type": "stream",
          "text": [
            "Epoch 1/10\n",
            "154/154 [==============================] - 1s 1ms/step - loss: 0.8482 - accuracy: 0.7539\n",
            "Epoch 2/10\n",
            "154/154 [==============================] - 0s 1ms/step - loss: 0.6069 - accuracy: 0.7724\n",
            "Epoch 3/10\n",
            "154/154 [==============================] - 0s 1ms/step - loss: 0.6192 - accuracy: 0.7670\n",
            "Epoch 4/10\n",
            "154/154 [==============================] - 0s 1ms/step - loss: 0.4917 - accuracy: 0.7730\n",
            "Epoch 5/10\n",
            "154/154 [==============================] - 0s 1ms/step - loss: 0.6012 - accuracy: 0.7653\n",
            "Epoch 6/10\n",
            "154/154 [==============================] - 0s 1ms/step - loss: 0.6084 - accuracy: 0.7786\n",
            "Epoch 7/10\n",
            "154/154 [==============================] - 0s 1ms/step - loss: 0.4905 - accuracy: 0.7737\n",
            "Epoch 8/10\n",
            "154/154 [==============================] - 0s 1ms/step - loss: 0.5095 - accuracy: 0.7769\n",
            "Epoch 9/10\n",
            "154/154 [==============================] - 0s 1ms/step - loss: 0.7200 - accuracy: 0.7540\n",
            "Epoch 10/10\n",
            "154/154 [==============================] - 0s 1ms/step - loss: 0.6305 - accuracy: 0.7603\n"
          ],
          "name": "stdout"
        },
        {
          "output_type": "execute_result",
          "data": {
            "text/plain": [
              "<tensorflow.python.keras.callbacks.History at 0x7f237736fa90>"
            ]
          },
          "metadata": {
            "tags": []
          },
          "execution_count": 33
        }
      ]
    },
    {
      "cell_type": "code",
      "metadata": {
        "colab": {
          "base_uri": "https://localhost:8080/"
        },
        "id": "WnvLkpi0rAAE",
        "outputId": "dfef169c-eb09-4cd7-d7b7-19af5c8beb6f"
      },
      "source": [
        "model_3 = keras.Sequential()\r\n",
        "model_3.add(keras.layers.Dense(8,input_shape =(7,),activation='relu'))\r\n",
        "model_3.add(keras.layers.Dense(20,activation='relu'))\r\n",
        "model_3.add(keras.layers.Dense(10,activation='relu'))\r\n",
        "model_3.add(keras.layers.Dense(1,activation='sigmoid'))\r\n",
        "model.compile(optimizer='adam', loss='binary_crossentropy', metrics=['accuracy'])\r\n",
        "model.fit(X_train,y_train,epochs=10)"
      ],
      "execution_count": 36,
      "outputs": [
        {
          "output_type": "stream",
          "text": [
            "Epoch 1/10\n",
            "154/154 [==============================] - 1s 1ms/step - loss: 0.7687 - accuracy: 0.7568\n",
            "Epoch 2/10\n",
            "154/154 [==============================] - 0s 1ms/step - loss: 0.5067 - accuracy: 0.7796\n",
            "Epoch 3/10\n",
            "154/154 [==============================] - 0s 1ms/step - loss: 0.5299 - accuracy: 0.7780\n",
            "Epoch 4/10\n",
            "154/154 [==============================] - 0s 1ms/step - loss: 0.5259 - accuracy: 0.7663\n",
            "Epoch 5/10\n",
            "154/154 [==============================] - 0s 1ms/step - loss: 0.5100 - accuracy: 0.7826\n",
            "Epoch 6/10\n",
            "154/154 [==============================] - 0s 1ms/step - loss: 0.5806 - accuracy: 0.7710\n",
            "Epoch 7/10\n",
            "154/154 [==============================] - 0s 1ms/step - loss: 0.5804 - accuracy: 0.7766\n",
            "Epoch 8/10\n",
            "154/154 [==============================] - 0s 1ms/step - loss: 0.5697 - accuracy: 0.7563\n",
            "Epoch 9/10\n",
            "154/154 [==============================] - 0s 1ms/step - loss: 0.6552 - accuracy: 0.7713\n",
            "Epoch 10/10\n",
            "154/154 [==============================] - 0s 1ms/step - loss: 0.5888 - accuracy: 0.7503\n"
          ],
          "name": "stdout"
        },
        {
          "output_type": "execute_result",
          "data": {
            "text/plain": [
              "<tensorflow.python.keras.callbacks.History at 0x7f236f192390>"
            ]
          },
          "metadata": {
            "tags": []
          },
          "execution_count": 36
        }
      ]
    },
    {
      "cell_type": "code",
      "metadata": {
        "id": "kyD0Uc1urLFW"
      },
      "source": [
        ""
      ],
      "execution_count": null,
      "outputs": []
    }
  ]
}